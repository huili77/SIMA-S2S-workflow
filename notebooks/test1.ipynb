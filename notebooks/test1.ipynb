{
 "cells": [
  {
   "cell_type": "markdown",
   "id": "b6f89eec-5e68-410f-a665-1133caec7c17",
   "metadata": {},
   "source": [
    "# This is a test for notebook deployment"
   ]
  },
  {
   "cell_type": "markdown",
   "id": "ed79bfc0-a01a-4287-b95a-62a76fbcea3d",
   "metadata": {},
   "source": [
    "## Model configuration\n",
    "\n",
    "We use CAM7 physics and MPAS dycore"
   ]
  },
  {
   "cell_type": "code",
   "execution_count": null,
   "id": "6f3e499b-c49f-4dbe-b692-aaa944e8b63c",
   "metadata": {},
   "outputs": [],
   "source": []
  }
 ],
 "metadata": {
  "kernelspec": {
   "display_name": "Python [conda env:miniconda3-workstation]",
   "language": "python",
   "name": "conda-env-miniconda3-workstation-py"
  },
  "language_info": {
   "codemirror_mode": {
    "name": "ipython",
    "version": 3
   },
   "file_extension": ".py",
   "mimetype": "text/x-python",
   "name": "python",
   "nbconvert_exporter": "python",
   "pygments_lexer": "ipython3",
   "version": "3.10.12"
  }
 },
 "nbformat": 4,
 "nbformat_minor": 5
}
