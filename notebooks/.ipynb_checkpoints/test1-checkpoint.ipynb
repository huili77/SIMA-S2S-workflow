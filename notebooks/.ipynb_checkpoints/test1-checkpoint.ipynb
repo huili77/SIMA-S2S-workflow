{
 "cells": [
  {
   "cell_type": "markdown",
   "id": "b6f89eec-5e68-410f-a665-1133caec7c17",
   "metadata": {},
   "source": [
    "# This is a test for notebook deployment"
   ]
  },
  {
   "cell_type": "markdown",
   "id": "ed79bfc0-a01a-4287-b95a-62a76fbcea3d",
   "metadata": {},
   "source": [
    "## Model configuration\n",
    "\n",
    "We use CAM7 physics and MPAS dycore"
   ]
  },
  {
   "cell_type": "markdown",
   "id": "37cbc5c8-df0f-4a51-acf4-6da976180e92",
   "metadata": {},
   "source": [
    "Add images"
   ]
  },
  {
   "cell_type": "code",
   "execution_count": null,
   "id": "1c269c13-879e-4c93-a4e6-464f21cdf2a4",
   "metadata": {},
   "outputs": [],
   "source": []
  }
 ],
 "metadata": {
  "kernelspec": {
   "display_name": "Python [conda env:miniconda3-workstation]",
   "language": "python",
   "name": "conda-env-miniconda3-workstation-py"
  },
  "language_info": {
   "codemirror_mode": {
    "name": "ipython",
    "version": 3
   },
   "file_extension": ".py",
   "mimetype": "text/x-python",
   "name": "python",
   "nbconvert_exporter": "python",
   "pygments_lexer": "ipython3",
   "version": "3.10.12"
  }
 },
 "nbformat": 4,
 "nbformat_minor": 5
}
